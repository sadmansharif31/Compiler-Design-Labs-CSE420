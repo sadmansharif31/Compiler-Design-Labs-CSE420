{
 "cells": [
  {
   "cell_type": "code",
   "execution_count": 1,
   "id": "e82ece2c",
   "metadata": {},
   "outputs": [
    {
     "name": "stdout",
     "output_type": "stream",
     "text": [
      "Methods:\n",
      "add (int a, int b) , return type: int\n",
      "subtract (int a, int b) , return type: int\n",
      "add () , return type: void\n"
     ]
    }
   ],
   "source": [
    "with open('input.txt') as f:\n",
    "    lines = f.readlines()\n",
    "\n",
    "         \n",
    "key=[]\n",
    "\n",
    "\n",
    "for p in range (len(lines)):\n",
    "    for i in lines[p]:\n",
    "        ref=lines[p].split()\n",
    "    key.append(ref)\n",
    "    \n",
    "lst=[]\n",
    "typee=[]\n",
    "a=''  \n",
    "for i in range(len(key)):\n",
    "    j=len(key[i])\n",
    "    if key[i][0]==\"public\" and key[i][1]==\"int\":\n",
    "        for p in range(2,j):\n",
    "            a+=(key[i][p]+' ')\n",
    "        lst.append(a)\n",
    "        typee.append(key[i][1])\n",
    "        a=''\n",
    "        \n",
    "    elif key[i][0]==\"public\" and key[i][1]==\"static\" and key[i][2]==\"int\" :\n",
    "        for q in range(3,j):\n",
    "            a+=(key[i][q]+' ')\n",
    "        lst.append(a)\n",
    "        typee.append(key[i][2])\n",
    "        a=''\n",
    "        \n",
    " \n",
    "    elif key[i][0]==\"public\" and key[i][1]==\"void\":\n",
    "        for r in range(2,j):\n",
    "            a+=(key[i][r]+' ')\n",
    "        lst.append(a)\n",
    "        typee.append(key[i][1])\n",
    "        a=''\n",
    "        \n",
    "    \n",
    "print(\"Methods:\")\n",
    "for i in range(len(lst)):\n",
    "    a=lst[i]\n",
    "    count=0\n",
    "    for j in range(len(a)):\n",
    "        \n",
    "        if a[j]==\"(\":\n",
    "            count=j\n",
    "    fir=slice(0,count)\n",
    "    last=slice(count,len(a))\n",
    "            \n",
    "    print(a[fir]+' '+a[last]+\", return type: \"+typee[i])  "
   ]
  },
  {
   "cell_type": "code",
   "execution_count": null,
   "id": "4a48af0b",
   "metadata": {},
   "outputs": [],
   "source": []
  }
 ],
 "metadata": {
  "kernelspec": {
   "display_name": "Python 3 (ipykernel)",
   "language": "python",
   "name": "python3"
  },
  "language_info": {
   "codemirror_mode": {
    "name": "ipython",
    "version": 3
   },
   "file_extension": ".py",
   "mimetype": "text/x-python",
   "name": "python",
   "nbconvert_exporter": "python",
   "pygments_lexer": "ipython3",
   "version": "3.9.7"
  }
 },
 "nbformat": 4,
 "nbformat_minor": 5
}
