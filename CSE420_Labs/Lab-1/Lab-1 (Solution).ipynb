{
  "nbformat": 4,
  "nbformat_minor": 0,
  "metadata": {
    "colab": {
      "provenance": []
    },
    "kernelspec": {
      "name": "python3",
      "display_name": "Python 3"
    },
    "language_info": {
      "name": "python"
    }
  },
  "cells": [
    {
      "cell_type": "code",
      "execution_count": null,
      "metadata": {
        "colab": {
          "base_uri": "https://localhost:8080/"
        },
        "id": "5Chu0BCl3BAS",
        "outputId": "eb26c15d-f766-4bc4-f63a-6a8f3d5ce819"
      },
      "outputs": [
        {
          "output_type": "stream",
          "name": "stdout",
          "text": [
            "Keywords: int, float, if, else\n",
            "Identifiers: a,b,c,d,e\n",
            "Math Operators: =,-,+\n",
            "Logical Operators: >\n",
            "Numerical Values: 5,6,2.0,6.0\n",
            "Others: , ; ( ) {  }\n"
          ]
        }
      ],
      "source": [
        "import re\n",
        "\n",
        "user_input = open('input.txt', 'r')\n",
        "user_input = user_input.read()\n",
        "user_input=user_input.split('\\n')\n",
        "\n",
        "\n",
        "keywords=[]\n",
        "identifiers=[]\n",
        "math_operator=[]\n",
        "logical_operator=[]\n",
        "numerical_value=[]\n",
        "others=[]\n",
        "\n",
        "k=['abstract','continue',   'for','new','switch',\n",
        "'assert***','default','goto*','package','synchronized',\n",
        "'boolean','do','if','private' ,'this',\n",
        "'break','double','implements','protected','throw',\n",
        "'byte', 'else', 'import',   'public',   'throws',\n",
        "'case', 'enum****', 'instanceof',   'return',   'transient',\n",
        "'catch','extends',  'int',  'short','try',\n",
        "'char', 'final',    'interface',    'static',   'void',\n",
        "'class',    'finally',  'long', 'strictfp**',   'volatile',\n",
        "'const*',   'float',    'native',   'super',    'while']\n",
        "m_op=['=', '+', '-', '*', '/', '+=', '-=', '*=', '/=', '%=', '&=', '|=', '^=', '>>=', '<<=']\n",
        "l_op=['==', '!=', '>', '<', '>=', '<=', '&&', '!!', '!']\n",
        "n=re.compile(\"[+-]?[0-9]+(.[0-9]+)?\")\n",
        "ident= re.compile(\"^[A-Za-z]+[0-9]*\")\n",
        "\n",
        "for i in user_input:\n",
        "    temp=i.split(' ')\n",
        "    for j in temp:\n",
        "        if j in k:\n",
        "            if j not in keywords:\n",
        "                keywords.append(j)\n",
        "        elif j in m_op:\n",
        "            if j not in math_operator:\n",
        "                math_operator.append(j)\n",
        "        elif j in l_op:\n",
        "            if j not in logical_operator:\n",
        "                logical_operator.append(j)\n",
        "        elif n.fullmatch(j) is not None:\n",
        "            if j not in numerical_value:\n",
        "                numerical_value.append(j)\n",
        "        elif ident.fullmatch(j) is not None:\n",
        "            if j not in identifiers:\n",
        "                identifiers.append(j)\n",
        "        else:\n",
        "            if j not in others:\n",
        "                if j==' ':\n",
        "                    continue\n",
        "                others.append(j)\n",
        "\n",
        "print('Keywords: ',end='')\n",
        "print(*keywords,sep=', ')\n",
        "print('Identifiers: ',end='')\n",
        "print(*identifiers,sep=',')\n",
        "print('Math Operators: ',end='')\n",
        "print(*math_operator,sep=',')\n",
        "print('Logical Operators: ',end='')\n",
        "print(*logical_operator,sep=',')\n",
        "print('Numerical Values: ',end='')\n",
        "print(*numerical_value,sep=',')\n",
        "print('Others: ',end='')\n",
        "print(*others)"
      ]
    },
    {
      "cell_type": "code",
      "source": [
        "from google.colab import drive\n",
        "drive.mount('/content/drive')"
      ],
      "metadata": {
        "id": "fuZpo5JyTgUp"
      },
      "execution_count": null,
      "outputs": []
    }
  ]
}