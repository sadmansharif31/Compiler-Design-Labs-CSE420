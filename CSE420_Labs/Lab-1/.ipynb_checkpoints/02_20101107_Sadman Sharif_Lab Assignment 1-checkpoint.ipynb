{
 "cells": [
  {
   "cell_type": "code",
   "execution_count": 1,
   "id": "6eb90700",
   "metadata": {},
   "outputs": [
    {
     "name": "stdout",
     "output_type": "stream",
     "text": [
      "Keywords: int, float, if, else\n",
      "Identifiers: a,b,c,d,e\n",
      "Math Operators: =,-,+\n",
      "Logical Operators: >\n",
      "Numerical Values: 5,6,2.0,6.0\n",
      "Others: , ; ( ) { }\n"
     ]
    }
   ],
   "source": [
    "import re\n",
    "\n",
    "with open('Input.txt') as f:\n",
    "    lines = f.readlines()\n",
    "\n",
    "\n",
    "ident_1= re.compile(\"^[A-Za-z]+[0-9]*\")\n",
    "ident_2=re.compile(\"[+-]?[0-9]+(.[0-9]+)?\")\n",
    "\n",
    "logical_opr=['==','!=','<=','&&','!!','!','>','<','>=']\n",
    "math_opr=['+=','/=','|=','>>=','<<=','+','-','*','/','=']\n",
    "\n",
    "\n",
    "keys=['package','boolean','do','if','private','this','break','double','public','case','return',\n",
    "'catch','int' ,\"try\",'abstract','default','goto*','char','final','static','void','throw',\n",
    "'byte','else','import','class','long','const*','float','while','continue','for','new','switch']    \n",
    "    \n",
    "         \n",
    "key=[]\n",
    "ident=[]\n",
    "num_value=[]\n",
    "other=[]\n",
    "m_operator=[]\n",
    "l_operator=[]\n",
    "\n",
    "\n",
    "for p in range (len(lines)):\n",
    "    for i in lines[p]:\n",
    "        ref=lines[p].split()\n",
    "        for ip in ref:\n",
    "            if ip in keys:\n",
    "                if ip not in key:\n",
    "                    key.append(ip)\n",
    "            elif ident_2.fullmatch(ip) is not None:\n",
    "                if ip not in num_value:\n",
    "                    num_value.append(ip)\n",
    "            elif ip in math_opr:\n",
    "                if ip not in m_operator:\n",
    "                    m_operator.append(ip)\n",
    "                    \n",
    "            elif ident_1.fullmatch(ip) is not None:\n",
    "                if ip not in ident:\n",
    "                    ident.append(ip)\n",
    "            elif ip in logical_opr:\n",
    "                if ip not in l_operator:\n",
    "                    l_operator.append(ip)\n",
    "            else: \n",
    "                if ip not in other:\n",
    "                    if ip==' ':\n",
    "                        continue\n",
    "                    other.append(ip)\n",
    "\n",
    "print('Keywords: ',end='')\n",
    "print(*key,sep=', ')\n",
    "print('Identifiers: ',end='')\n",
    "print(*ident,sep=',')\n",
    "print('Math Operators: ',end='')\n",
    "print(*m_operator,sep=',')\n",
    "print('Logical Operators: ',end='')\n",
    "print(*l_operator,sep=',')\n",
    "print('Numerical Values: ',end='')\n",
    "print(*num_value,sep=',')\n",
    "print('Others: ',end='')\n",
    "print(*other)"
   ]
  },
  {
   "cell_type": "code",
   "execution_count": null,
   "id": "9f8724df",
   "metadata": {},
   "outputs": [],
   "source": []
  }
 ],
 "metadata": {
  "kernelspec": {
   "display_name": "Python 3 (ipykernel)",
   "language": "python",
   "name": "python3"
  },
  "language_info": {
   "codemirror_mode": {
    "name": "ipython",
    "version": 3
   },
   "file_extension": ".py",
   "mimetype": "text/x-python",
   "name": "python",
   "nbconvert_exporter": "python",
   "pygments_lexer": "ipython3",
   "version": "3.9.7"
  }
 },
 "nbformat": 4,
 "nbformat_minor": 5
}
