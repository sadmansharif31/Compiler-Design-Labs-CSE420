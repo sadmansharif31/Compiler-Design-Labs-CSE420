{
 "cells": [
  {
   "cell_type": "code",
   "execution_count": 1,
   "id": "5d109a00",
   "metadata": {},
   "outputs": [
    {
     "name": "stdout",
     "output_type": "stream",
     "text": [
      "YES, 3\n",
      "YES, 1\n",
      "NO, 0\n",
      "NO, 0\n",
      "YES, 2\n"
     ]
    }
   ],
   "source": [
    "import linecache\n",
    "import re\n",
    "\n",
    "lst=[]\n",
    "pst=[]\n",
    "f=open(\"input2.txt\",'r') \n",
    "x=int(f.readline())\n",
    "\n",
    "for i in range(0,x):\n",
    "    temp=f.readline().strip(\"\\n\")\n",
    "    lst.append(temp)\n",
    "    \n",
    "    \n",
    "track=x+2  \n",
    "particular_line=linecache.getline('input2.txt',track)\n",
    "line=int(particular_line)  \n",
    "\n",
    "for i in range(track+1,track+line+1):\n",
    "    tempp=linecache.getline('input2.txt',i)\n",
    "    ola=tempp.rstrip(\"\\n\")\n",
    "    pst.append(ola)\n",
    "\n",
    "def rematch(x,lst,pst):\n",
    "    \n",
    "    for i in range(0,x):\n",
    "        if re.match(lst[i],pst):\n",
    "            return \"YES, \"+str(i+1)\n",
    "    return \"NO, 0\"\n",
    "                \n",
    "display=[]                           \n",
    "for i in range(0,line):\n",
    "    display.append(rematch(x,lst,pst[i]))\n",
    "    \n",
    "for j in range(0,line):\n",
    "    print(display[j])"
   ]
  },
  {
   "cell_type": "code",
   "execution_count": null,
   "id": "56fe9064",
   "metadata": {},
   "outputs": [],
   "source": []
  }
 ],
 "metadata": {
  "kernelspec": {
   "display_name": "Python 3 (ipykernel)",
   "language": "python",
   "name": "python3"
  },
  "language_info": {
   "codemirror_mode": {
    "name": "ipython",
    "version": 3
   },
   "file_extension": ".py",
   "mimetype": "text/x-python",
   "name": "python",
   "nbconvert_exporter": "python",
   "pygments_lexer": "ipython3",
   "version": "3.9.7"
  }
 },
 "nbformat": 4,
 "nbformat_minor": 5
}
